{
 "cells": [
  {
   "cell_type": "markdown",
   "metadata": {},
   "source": [
    "# Benchmark Muscato Alignment Software"
   ]
  },
  {
   "cell_type": "markdown",
   "metadata": {},
   "source": [
    "Here are the various data and scripts needed to reproduce my benchmarking of the Muscato software. \n",
    "Bowtie2 was used as a long standing quality general RNA-seq aligner that has been used for metatranscriptomics."
   ]
  },
  {
   "cell_type": "markdown",
   "metadata": {},
   "source": [
    "### Data and Software"
   ]
  },
  {
   "cell_type": "markdown",
   "metadata": {},
   "source": [
    "Data: NCBI Bacterial 16S rRNA genes were downloaded on 4/27/18 from: ftp://ftp.ncbi.nlm.nih.gov/refseq/TargetedLoci/Bacteria/<br>\n",
    "<br>Software:<br>\n",
    "Bowtie version: bowtie2/2.3.3<br>\n",
    "Go version: go/1.10.1<br>\n",
    "<br>\n",
    "EmEditor was used to:<br>\n",
    "- retrieve taxon IDs from the .gbff file\n",
    "- flatten the .fna file into a tab delimited .txt file\n",
    "- in conjunctoin with excel \"vlookup\" modify the gene names with the taxon id\n",
    "- remove sequences  < 500nt\n",
    "- deduplicate the sequences<br>\n",
    "- remove any sequences with ambiguous bases using standard regex."
   ]
  },
  {
   "cell_type": "markdown",
   "metadata": {},
   "source": [
    "### Make Reads"
   ]
  },
  {
   "cell_type": "markdown",
   "metadata": {},
   "source": [
    "#### NCBI16SRRNA.txt"
   ]
  },
  {
   "cell_type": "raw",
   "metadata": {},
   "source": [
    "NG_042881.1|215|HELICOBACTER_FENNELLIAE                 TTTACGGAGAGTTTGATCCTGGCTC\n",
    "NR_121591.1|496866|THERMOANAEROBACTER_PSEUDETHANOLICUS\tAGAGTTTGATCCTGGCTCAGGACGA\n",
    "NR_117659.1|2378|SPOROMUSA_OVATA\t                    CAGGACGAACGCTGGCGGCGTGCCT\n",
    "NG_042882.1|287948|HELICOBACTER_MASTOMYRINUS\t        GAGTTTGATCCTGGCTCAGAGTGAA\n",
    "NR_117660.1|2378|SPOROMUSA_OVATA\t                    GAGTTTGATCCTGGCTCAGGACGAA"
   ]
  },
  {
   "cell_type": "markdown",
   "metadata": {},
   "source": [
    "#### Make_16S_Reads.pl"
   ]
  },
  {
   "cell_type": "markdown",
   "metadata": {},
   "source": [
    "This script creates either 20K reads of lengths 50, 75, 100, and 250 with 0, 1, 2, or 3 mismatches between the read and source gene."
   ]
  },
  {
   "cell_type": "code",
   "execution_count": null,
   "metadata": {
    "collapsed": true
   },
   "outputs": [],
   "source": [
    "#MAKE 20K reads\n",
    "@LENS = (50,75,100,250);\n",
    "@MIS = (0,1,2,3);\n",
    "\n",
    "foreach my $rlen (@LENS){\n",
    "\tforeach my $mism (@MIS){\n",
    "\n",
    "\t\t$outfq = $rlen.\"_\".$mism.\"_reads.fastq\";\n",
    "\t\topen(OUTFQ, \">\", $outfq)||die;\n",
    "\t\t$outfa = $rlen.\"_\".$mism.\"_reads.fasta\";\n",
    "\t\topen(OUTFA, \">\", $outfa)||die;\n",
    "\n",
    "\t\t$rc = 0;\n",
    "\t\tmy %READS;\n",
    "\t\twhile($rc < 20000){\n",
    "\t\t\t\n",
    "\t\t\t$ingen = 'NCBI16SRRNA.txt';\n",
    "\t\t\topen(INGEN, $ingen)||die;\n",
    "\t\t\twhile(<INGEN>){\n",
    "\t\t\t\t\n",
    "\t\t\t\t$_=~s/[\\r\\n]+//;\n",
    "\t\t\t\tif($_ !~ /\\w/){next;}\n",
    "\t\t\t\t$_=uc($_);\n",
    "\t\t\t\t(my $gname, my $gene) = split('\\t',$_);\n",
    "\t\t\t\tif($gene =~ /[^ATGC]/ || length($gene)<500 || length($gene)>2500){next;}\n",
    "\t\t\t\t\n",
    "\t\t\t\t#make read\n",
    "\t\t\t\t$glen = length($gene);\n",
    "\t\t\t\tfor $x (0..$glen-1){\n",
    "\t\t\t\t\t\t$start = int(rand(length($gene-$rlen+1)));\n",
    "\t\t\t\t\t\t$read = substr($gene, $start, $rlen);\n",
    "\t\t\t\t\t\tif($mism > 0){\n",
    "\t\t\t\t\t\t\t$done = '';\n",
    "\t\t\t\t\t\t\tfor my $i (1..$mism){\n",
    "\t\t\t\t\t\t\t\t$mpos = int(rand($rlen));\n",
    "\t\t\t\t\t\t\t\twhile($done =~ /\\b$mpos\\b/){$mpos = int(rand($rlen));}\n",
    "\t\t\t\t\t\t\t\t$done.=\"|\".$mpos;\n",
    "\t\t\t\t\t\t\t\t$bb = substr($read, $mpos, 1);\n",
    "\t\t\t\t\t\t\t\tif($bb eq \"A\"){$bb = \"G\";}\n",
    "\t\t\t\t\t\t\t\telsif($bb eq \"T\"){$bb = \"C\";}\n",
    "\t\t\t\t\t\t\t\telsif($bb eq \"G\"){$bb = \"T\";}\n",
    "\t\t\t\t\t\t\t\telse{$bb = \"A\";}\n",
    "\t\t\t\t\t\t\t\tsubstr($read, $mpos, 1, $bb);\n",
    "\t\t\t\t\t\t\t}\n",
    "\t\t\t\t\t\t}\n",
    "\t\t\t\t\t\t$SCORE = (\"I\" x $rlen);\n",
    "\t\t\t\t\t\t$out = $rc.\"_\".$gname;\n",
    "\t\t\t\t\t\tif(!exists($READS{$read})){$READS{$read}=1; last;}\n",
    "\t\t\t\t}\n",
    "\t\t\t\t\n",
    "\t\t\t\tprint OUTFA \">\".$out.\"\\n$read\\n\";\n",
    "\t\t\t\tprint OUTFQ \"@\".$out.\"\\n$read\\n+\\n$SCORE\\n\";\n",
    "\t\t\t\t\n",
    "\t\t\t\t$rc++;\n",
    "\t\t\t\tif($rc%1000==0){ print \"on $rc mism $mism len $rlen out $out read $read\\n\";} \n",
    "\t\t\t\t$on++; \t\t\t\t\n",
    "\t\t\t\tif($rc == 20000){last;}\n",
    "\n",
    "\t\t\t}\n",
    "\t\t}\n",
    "\t}\n",
    "}"
   ]
  },
  {
   "cell_type": "markdown",
   "metadata": {},
   "source": [
    "#### Make_16S_Big_Reads.pl"
   ]
  },
  {
   "cell_type": "markdown",
   "metadata": {},
   "source": [
    "This script creates \\$count specified unique reads between the lengths of \\$min to \\$max with 0, 1, 2, or 3 mismatches."
   ]
  },
  {
   "cell_type": "code",
   "execution_count": null,
   "metadata": {
    "collapsed": true
   },
   "outputs": [],
   "source": [
    "$min = 75;\n",
    "$max = 100;\n",
    "$count = 1000000;\n",
    "\n",
    "$ingen = 'NCBI16SRRNA.txt';  #gene database tab delim name\\tseq\n",
    "\n",
    "$outfq = '16S_'.$count.'_reads.fastq';\n",
    "open(OUTFQ, \">\", $outfq)||die;\n",
    "$outfa = '16S_'.$count.'_reads.fasta';\n",
    "open(OUTFA, \">\", $outfa)||die;\n",
    "\n",
    "$rc = 0;\n",
    "@MIS = (0,1,2,3);\n",
    "$nm = @MIS;\n",
    "my %READS; \n",
    "while($rc < $count){\n",
    "\topen(INGEN, $ingen)||die;\n",
    "\twhile(<INGEN>){\n",
    "\t\t$_=~s/[\\r\\n]+//;\n",
    "\t\tif($_ !~ /\\w/){next;}\n",
    "\t\t$_=uc($_);\n",
    "\t\t(my $gname, my $gene) = split('\\t',$_);\n",
    "\t\tif($gene =~ /[^ATGC]/ || length($gene)<500 || length($gene)>2500){next;}\n",
    "\t\t\n",
    "\t\t#make read\n",
    "\t\t$glen = length($gene);\n",
    "\t\tfor $x (0..$glen-1){\n",
    "\t\t\t\t$mism = $MIS[int(rand($nm))];\n",
    "\t\t\t\t$rlen = int(rand($max-$min+1))+$min;\n",
    "\t\t\t\t$start = int(rand(length($gene-$rlen)));\n",
    "\t\t\t\t$read = substr($gene, $start, $rlen);\n",
    "\t\t\t\tif($mism > 0){\n",
    "\t\t\t\t\t$done = '';\n",
    "\t\t\t\t\tfor my $i (1..$mism){\n",
    "\t\t\t\t\t\t$mpos = int(rand($rlen));\n",
    "\t\t\t\t\t\twhile($done =~ /\\b$mpos\\b/){$mpos = int(rand($rlen));}\n",
    "\t\t\t\t\t\t$done.=\"|\".$mpos;\n",
    "\t\t\t\t\t\t$bb = substr($read, $mpos, 1);\n",
    "\t\t\t\t\t\tif($bb eq \"A\"){$bb = \"G\";}\n",
    "\t\t\t\t\t\telsif($bb eq \"T\"){$bb = \"C\";}\n",
    "\t\t\t\t\t\telsif($bb eq \"G\"){$bb = \"T\";}\n",
    "\t\t\t\t\t\telse{$bb = \"A\";}\n",
    "\t\t\t\t\t\tsubstr($read, $mpos, 1, $bb);\n",
    "\t\t\t\t\t}\n",
    "\t\t\t\t}\n",
    "\t\t\t\t$SCORE = (\"I\" x $rlen);\n",
    "\t\t\t\t$out = $rc.\"_\".$gname;\n",
    "\t\t\t\tif(!exists($READS{$read})){$READS{$read}=1; last;}\n",
    "\t\t}\n",
    "\n",
    "\t\tprint OUTFA \">\".$out.\"\\n$read\\n\";\n",
    "\t\tprint OUTFQ \"@\".$out.\"\\n$read\\n+\\n$SCORE\\n\";\n",
    "\t\t\n",
    "\t\t$rc++;\n",
    "\t\tif($rc%10000==0){ print \"on $rc mism $mism len $rlen out $out read $read\\n\";} \n",
    "\t\t$on++; \t\t\t\t\n",
    "\t\tif($rc == $count){last;}\n",
    "\t}\n",
    "}\n"
   ]
  },
  {
   "cell_type": "markdown",
   "metadata": {},
   "source": [
    "#### 16S_1000000_reads.fastq"
   ]
  },
  {
   "cell_type": "raw",
   "metadata": {},
   "source": [
    "@0_NG_042881.1|215|HELICOBACTER_FENNELLIAE\n",
    "TCTACGGAGAGTTTTATCCTGGCTCAGAGTGAACGCTGGCGGCGTGCCTAATACATGCAAGTCGAACGATGAAGTCTCT\n",
    "+\n",
    "IIIIIIIIIIIIIIIIIIIIIIIIIIIIIIIIIIIIIIIIIIIIIIIIIIIIIIIIIIIIIIIIIIIIIIIIIIIIIII\n",
    "@1_NR_121591.1|496866|THERMOANAEROBACTER_PSEUDETHANOLICUS\n",
    "AGTTCGATACTGGCTCAGGACGAACGCTGGCGGCGTGCCTAACACATGCAAGTCGAGCGGTCCGGCACTCGACTAAGTGCTTACTTAAGG\n",
    "+\n",
    "IIIIIIIIIIIIIIIIIIIIIIIIIIIIIIIIIIIIIIIIIIIIIIIIIIIIIIIIIIIIIIIIIIIIIIIIIIIIIIIIIIIIIIIIII"
   ]
  },
  {
   "cell_type": "markdown",
   "metadata": {},
   "source": [
    "### Run Bowtie"
   ]
  },
  {
   "cell_type": "markdown",
   "metadata": {},
   "source": [
    "#### BOWTIE_COUNTS.pl"
   ]
  },
  {
   "cell_type": "code",
   "execution_count": null,
   "metadata": {
    "collapsed": true
   },
   "outputs": [],
   "source": [
    "use warnings;\n",
    "$input   = './16S_SAMPLE_MAXI.bowtie';\n",
    "$inlin   = './NCBI16S_LINEAGES.txt';\n",
    "$outstat = $input;\n",
    "$outstat =~ s/\\.bowtie$/.stats/;\n",
    "\t\t\n",
    "$mmtol = 1;\n",
    "$cut = 0.06; #94% id\n",
    "\t\t\t\n",
    "#INPUT LINEAGES\n",
    "open(INLIN, $inlin)||die;\n",
    "while(<INLIN>){\n",
    "\t$_ =~ s/[\\n\\r]+//;\n",
    "\tif($_ !~ /\\w/){next;}\n",
    "\t$_ = uc($_);\n",
    "\t@stuff = split(\"\\t\", $_);\n",
    "\t$TID = shift(@stuff);\n",
    "\t$lineage = join(\";\", @stuff); \n",
    "\t$PHY{$TID}=$lineage;\n",
    "}\n",
    "\n",
    "\n",
    "#PROCESS READS\n",
    "$on=0;\n",
    "$time = localtime;\n",
    "print \"Inputting reads time $time\\n\";\n",
    "open(INMATCH, $input)||die;\n",
    "while(<INMATCH>){\n",
    "\t\t\tif($_ !~ /\\w/){next;}\n",
    "\t\t\t$_ =~ s/[\\n\\r\\>]+//g;\n",
    "\t\t\t@stuff = split(\"\\t\", $_);\n",
    "\t\t\tif($stuff[1] !~ /\\b(0|256)\\b/){next;}\n",
    "\t\t\t\n",
    "\t\t\t#do initial screening of mismatches to reduce total matches\n",
    "\t\t\t$_ =~ /NM:i:(\\d)+/;\n",
    "\t\t\t$MISM = $1; \n",
    "\t\t\t$TOT{$stuff[0]}++;\n",
    "\t\t\tif($MISM > length($stuff[9])*$cut){next;}\n",
    "\t\t\tif(!exists($BEST{$stuff[0]})){$BEST{$stuff[0]}=$MISM;}\n",
    "\t\t\tif($MISM>$BEST{$stuff[0]}+$mmtol){next;}\n",
    "\t\t\tif($MISM<$BEST{$stuff[0]}){$BEST{$stuff[0]}=$MISM;}\n",
    "\n",
    "\t\t\t$MATCHES{$stuff[0]}{$stuff[2]}=$MISM;\n",
    "\t\t\tif($on%100000==0){\n",
    "\t\t\t\t$time = localtime;\n",
    "\t\t\t\tprint \"on $on mism $MISM best $BEST{$stuff[0]} read $stuff[0] time $time\\n\";}\n",
    "\t\t\t$on++;\n",
    "}\n",
    "\n",
    "\n",
    "#PROCESS READS FOR BEST MATCHES\n",
    "$time = localtime;\n",
    "print \"Cleaning reads time $time\\n\";\n",
    "$on=0;\n",
    "foreach my $read (keys %MATCHES){\n",
    "\t\t$best = $BEST{$read};\n",
    "\t\t$KC = 0;\n",
    "\t\tforeach my $gene (keys %{$MATCHES{$read}}){\n",
    "\t\t\tif($MATCHES{$read}{$gene} > $best+$mmtol){ delete($MATCHES{$read}{$gene}); }\n",
    "\t\t\telse{$KC++;}\n",
    "\t\t}\n",
    "\t\t$BEST{$read}=$KC;\n",
    "\t\t\n",
    "\t\tif($on%100000==0){print \"on $on best mism $MISM tc $TOT{$read} kc $KC \\n\";}\n",
    "\t\t$on++;\n",
    "}\n",
    "\n",
    "\n",
    "#GET LCA and STATS\n",
    "$time = localtime;\n",
    "print \"Processing read LCA and stats $outstat time $time\\n\";\n",
    "open(OUTSTAT, \">\", $outstat)||die;\n",
    "print OUTSTAT \"Read Name\\tMatches contained gene ID\\tLCA matches Read Lineage\\tKept Gene Matches\\tTotal Gene Matches\\tRead Lineage\\tLCA\\tHas Kingtom\\tHas Phylum\\tHas Class\\tHas Order\\tHas Family\\tHas Genus\\tHas Species\\n\";\n",
    "foreach my $read (keys %MATCHES){\n",
    " \n",
    "\t$read =~ /\\|(\\d+)\\|/;\n",
    "\t$RTID = $1;\n",
    "\t$RLIN = $PHY{$RTID};\n",
    "\t$read =~ /^[\\d\\_]+([^\\|]+)\\|/;\n",
    "\t$RGID = $1;\n",
    "\n",
    "\t#get good hits\n",
    "\tmy @PHYL;\n",
    "\tmy @MNAMES;\n",
    "\tforeach my $gene (keys %{$MATCHES{$read}}){\n",
    "\t\t$gene =~/\\|(\\d+)\\|/; \n",
    "\t\t$GTID = $1;\n",
    "\t\t$GLIN = $PHY{$GTID};\n",
    "\t\t$gene =~ /^([^\\|]+)\\|/;\n",
    "\t\t$GGID = $1;\n",
    "\t\tpush(@PHYL, $GLIN);\n",
    "\t\tpush(@MNAMES, $GGID);\n",
    "\t}\n",
    "\n",
    "\t#get common ancestor\n",
    "\tmy @TAXON;\n",
    "\tmy %seen3;\n",
    "\t@PHYL = grep { !$seen3{$_}++ } @PHYL;\n",
    "\t$len1 = @PHYL; \n",
    "\tif($len1 == 1){$LCA = $PHYL[0];\t@TAXON = split(\";\", $LCA);}\n",
    "\telsif($len1 >1){\n",
    "\t\t$first = $PHYL[0];\n",
    "\t\t@levels = split(\";\", $first);\n",
    "\t\tfor my $p (0..$#levels){\n",
    "\t\t\t@matched = grep(/(^\\Q$levels[$p]\\E\\;|\\;\\Q$levels[$p]\\E\\;|\\;\\Q$levels[$p]\\E$)/i, @PHYL);  \n",
    "\t\t\t$len2 = @matched; \n",
    "\t\t\tif($len2 == $len1){push(@TAXON, $levels[$p]);}\n",
    "\t\t\telse{last;}\n",
    "\t\t}\n",
    "\t\t$len3 = @TAXON; \n",
    "\t\tif($len3 > 1){$LCA = join(\";\", @TAXON);}\n",
    "\t\telsif($len3==1){$LCA = $TAXON[0];}\n",
    "\t\telse{$LCA = \"NCA\"; @TAXON = split(\";\", $LCA);}}\n",
    "\telse{$LCA = \"NCA\"; @TAXON = split(\";\", $LCA);}\n",
    "\n",
    "\n",
    "\t#check accuracy\n",
    "\t$hasGID = 0;\n",
    "\tif( grep{$RGID eq $_} @MNAMES){$hasGID = 1;}\n",
    "\t$hasLIN = 0;\n",
    "\tif( $RLIN =~ /$LCA/i ){ $hasLIN =1;}\n",
    "\t\n",
    "\tmy @GLCA;\n",
    "\tforeach(@TAXON){\n",
    "\t\tif($RLIN =~ /$_/){push(@GLCA,1);}\n",
    "\t\telse{push(@GLCA,-1);}\n",
    "\t}\n",
    "\t$arlen = @GLCA;\n",
    "\twhile($arlen < 7){ push(@GLCA,0); $arlen = @GLCA;}\n",
    "\t$wasgoodlin = join(\"\\t\", @GLCA);\n",
    "\tprint OUTSTAT \"$read\\t$hasGID\\t$hasLIN\\t$BEST{$read}\\t$TOT{$read}\\t$RLIN\\t$LCA\\t$wasgoodlin\\n\";\n",
    "}"
   ]
  },
  {
   "cell_type": "markdown",
   "metadata": {},
   "source": [
    "#### bash BOWTIE_TESTS.sh >bowtie.log 2>&1"
   ]
  },
  {
   "cell_type": "markdown",
   "metadata": {},
   "source": [
    "Runs the bowtie tests on the 4 lengths and 4 mismatches and 5 maxmatches. Output is stored in bowtie.log. Times are stored in bowtie_times.txt"
   ]
  },
  {
   "cell_type": "code",
   "execution_count": null,
   "metadata": {
    "collapsed": true
   },
   "outputs": [],
   "source": [
    "#bash sccript\n",
    "#do very-fast tests\n",
    "while read p; \n",
    "\tdo echo $p; \n",
    "\twhile read q; \n",
    "\t\tdo echo -ne \"$p start $q $(date)\" >> bowtie_times.txt;\n",
    "\t\tcp BOWTIE.sh ${q}.sh; \n",
    "\t\tsed -i \"s|MAXI|$p|g\" ${q}.sh;\n",
    "\t\tsed -i \"s|SAMPLE|$q|g\" ${q}.sh;\n",
    "\t\tbash ${q}.sh;\n",
    "\t\techo -ne \" finalign $(date)\" >> bowtie_times.txt;\n",
    "\t\tcp BOWTIE_COUNTS.pl ${q}.pl;\n",
    "\t\tsed -i \"s|MAXI|$p|g\" ${q}.pl; \n",
    "\t\tsed -i \"s|SAMPLE|$q|g\" ${q}.pl; \n",
    "\t\tperl ${q}.pl;\n",
    " \t\techo \" done $(date)\" >> bowtie_times.txt;\n",
    "\tdone <samplist.txt;  \n",
    "done <multimap.txt\n",
    "\n",
    "sed -i 's/fast/sensitive/' BOWTIE.sh\n",
    "sed -i 's/SAMPLE_MAXI/SAMPLEvs_MAXI/' BOWTIE.sh\n",
    "sed -i 's/SAMPLE_MAXI/SAMPLEvs_MAXI/' BOWTIE_COUNTS.pl\n",
    "\n",
    "#do very-sensitive tests\n",
    "while read p; \n",
    "\tdo echo $p; \n",
    "\twhile read q; \n",
    "\t\tdo echo -ne \"$p start $q $(date)\" >> bowtie_times.txt;\n",
    "\t\tcp BOWTIE.sh ${q}.sh; \n",
    "\t\tsed -i \"s|MAXI|$p|g\" ${q}.sh;\n",
    "\t\tsed -i \"s|SAMPLE|$q|g\" ${q}.sh;\n",
    "\t\tbash ${q}.sh;\n",
    "\t\techo -ne \" finalign $(date)\" >> bowtie_times.txt;\n",
    "\t\tcp BOWTIE_COUNTS.pl ${q}.pl;\n",
    "\t\tsed -i \"s|MAXI|$p|g\" ${q}.pl; \n",
    "\t\tsed -i \"s|SAMPLE|$q|g\" ${q}.pl; \n",
    "\t\tperl ${q}.pl;\n",
    " \t\techo \" done $(date)\" >> bowtie_times.txt;\n",
    "\tdone <samplist.txt;  \n",
    "done <multimap.txt\n"
   ]
  },
  {
   "cell_type": "markdown",
   "metadata": {},
   "source": [
    "#### BOWTIE.sh"
   ]
  },
  {
   "cell_type": "markdown",
   "metadata": {},
   "source": [
    "bowtie2 --very-fast --norc -k MAXI -t -p 8 --no-hd --no-sq -x NCBI16SRRNA -f 16S_SAMPLE_reads.fasta -S 16S_SAMPLE_MAXI.bowtie"
   ]
  },
  {
   "cell_type": "markdown",
   "metadata": {},
   "source": [
    "### Run Muscato"
   ]
  },
  {
   "cell_type": "markdown",
   "metadata": {},
   "source": [
    "Create the full MUSCATO.sh with unix or excel. qsub MUSCATO.pbs. It creates the .stats file for each read type as it runs."
   ]
  },
  {
   "cell_type": "markdown",
   "metadata": {},
   "source": [
    "#### MUSCATO.sh"
   ]
  },
  {
   "cell_type": "code",
   "execution_count": null,
   "metadata": {
    "collapsed": true
   },
   "outputs": [],
   "source": [
    "#repeat for 0, 1, 2, and 3 mismatches x lengths 50, 75, 100 and 250 x 1, 10, 100, 1000, 10000 multimapping \n",
    "#50 nt windows:0,5,15,25,34\n",
    "#75 nt windows:0,15,30,45,59 \n",
    "#100 nt windows:0,20,40,60,80\n",
    "#250 nt windows:0,50,100,150,200\n",
    "#sed the LENGTH, MISMATCHES, and MULTIMAP in unix loop or use excel\n",
    "\n",
    "echo -ne \"start 16S_LENGTH_MISMATCHES_MULTIMAP_matches.txt $(date)\" >> musctime.txt\n",
    "muscato --ReadFileName=16S_LENGTH_MISMATCHES_reads.fastq --ResultsFileName=16S_LENGTH_MISMATCHES_MULTIMAP_matches.txt --GeneFileName=NCBI16SRRNA.txt.sz  --GeneIdFileName=NCBI16SRRNA_ids.txt.sz --Windows=0,20,40,60,80 --WindowWidth=15 --BloomSize=400000000  --NumHash=8  --PMatch=0.94  --MinDinuc=5  --MinReadLength=50 --MaxMatches=MULTIMAP --MaxConfirmProcs=5  --MaxReadLength=250  --MatchMode=best  --MMTol=1 --TempDir=tmp/16S_LENGTH_MISMATCHES_MULTIMAP --SortTemp=tmp/16S_LENGTH_MISMATCHES_MULTIMAP/srt --SortPar=8  --SortMem=50%\n",
    "echo -ne \" finalin $(date)\" >> musctime.txt\n",
    "cp MUSCATO_COUNTS.pl 16S_LENGTH_MISMATCHES_MULTIMAP.pl; sed -i 's/SAMPLE/LENGTH_MISMATCHES_MULTIMAP/g' 16S_LENGTH_MISMATCHES_MULTIMAP.pl; \n",
    "perl 16S_LENGTH_MISMATCHES_MULTIMAP.pl\n",
    "echo \" end $(date)\" >> musctime.txt"
   ]
  },
  {
   "cell_type": "markdown",
   "metadata": {},
   "source": [
    "#### MUSCATO.pbs"
   ]
  },
  {
   "cell_type": "code",
   "execution_count": null,
   "metadata": {
    "collapsed": true
   },
   "outputs": [],
   "source": [
    "#PBS -l nodes=1:ppn=8\n",
    "#PBS -l pmem=4GB\n",
    "#PBS -l walltime=24:00:00\n",
    "#PBS -l qos=flux\n",
    "#PBS -A andjoh_fluxod\n",
    "#PBS -q fluxod\n",
    "#PBS -N muscato_1M1M\n",
    "#PBS -j oe\n",
    "#PBS -M tealfurn@umich.edu\n",
    "#PBS -m abe\n",
    "#PBS -V\n",
    "\n",
    "if [ -n \"$PBS_O_WORKDIR\" ]; then cd $PBS_O_WORKDIR; fi\n",
    "\n",
    "export LC_ALL=C\n",
    "export GOPATH=${HOME}/go\n",
    "export GOBIN=${GOPATH}/bin\n",
    "export PATH=${GOBIN}:${PATH}\n",
    "export GOGC=20\n",
    "\n",
    "bash MUSCATO.sh\n"
   ]
  },
  {
   "cell_type": "markdown",
   "metadata": {},
   "source": [
    "#### MUSCATO_COUNTS.pl"
   ]
  },
  {
   "cell_type": "code",
   "execution_count": null,
   "metadata": {
    "collapsed": true
   },
   "outputs": [],
   "source": [
    "use warnings;\n",
    "$input   = '16S_SAMPLE_matches_readstats.txt';\n",
    "$inlin   = 'NCBI16S_LINEAGES.txt';\n",
    "$outstat = $input;\n",
    "$outstat =~ s/matches_readstats.txt$/.stats/;\n",
    "\t\t\n",
    "#INPUT LINEAGES\n",
    "open(INLIN, $inlin)||die;\n",
    "while(<INLIN>){\n",
    "\t$_ =~ s/[\\n\\r]+//;\n",
    "\tif($_ !~ /\\w/){next;}\n",
    "\t$_ = uc($_);\n",
    "\t@stuff = split(\"\\t\", $_);\n",
    "\t$TID = shift(@stuff);\n",
    "\t$lineage = join(\";\", @stuff); \n",
    "\t$PHY{$TID}=$lineage;\n",
    "}\n",
    "\n",
    "\n",
    "#PROCESS READS\n",
    "$on=0;\n",
    "$time = localtime;\n",
    "print \"Getting readstats time $time on $outstat\\n\";\n",
    "open(OUTSTAT, \">\", $outstat)||die;\n",
    "open(INMATCH, $input)||die;\n",
    "while(<INMATCH>){\t\n",
    "\tif($_ !~ /\\w/){next;}\n",
    "\t$_ =~ s/[\\n\\r\\>]+//g;\n",
    "\t(my $read, my $genelist) = split(\"\\t\", $_);\n",
    "\n",
    "\t#@reads = split(\";\", $readlist);\n",
    "\t@genes = split(\";\", $genelist);\n",
    "\n",
    "\t#foreach my $read (@reads){\n",
    "\t\t$read =~ /\\|(\\d+)\\|/;\n",
    "\t\t$RTID = $1;\n",
    "\t\t$RLIN = $PHY{$RTID};\n",
    "\t\t$read =~ /^[\\@\\d\\_]+([^\\|]+)\\|/;\n",
    "\t\t$RGID = $1;\n",
    "\n",
    "\t\tmy @PHYL;\n",
    "\t\tmy @MNAMES;\n",
    "\t\t$TGC = @genes;\n",
    "\t\tforeach my $gene (@genes){\n",
    "\t\t\t$gene =~/\\|(\\d+)\\|/; \n",
    "\t\t\t$GTID = $1;\n",
    "\t\t\t$GLIN = $PHY{$GTID}; \t\n",
    "\t\t\t$gene =~ /^([^\\|]+)\\|/;\n",
    "\t\t\t$GGID = $1;\n",
    "\t\t\tpush(@PHYL, $GLIN);\n",
    "\t\t\tpush(@MNAMES, $GGID);\n",
    "\t\t}\n",
    "\n",
    "\n",
    "\tmy @TAXON;\n",
    "\tmy %seen3;\n",
    "\t@PHYL = grep { !$seen3{$_}++ } @PHYL;\n",
    "\t$len1 = @PHYL;\n",
    "\tif($len1 == 1){$LCA = $PHYL[0];\t@TAXON = split(\";\", $LCA);}\n",
    "\telsif($len1 >1){\n",
    "\t\t$first = $PHYL[0];\n",
    "\t\t@levels = split(\";\", $first);\n",
    "\t\tfor my $p (0..$#levels){\n",
    "\t\t\t@matched = grep(/(^\\Q$levels[$p]\\E\\;|\\;\\Q$levels[$p]\\E\\;|\\;\\Q$levels[$p]\\E$)/i, @PHYL);  \n",
    "\t\t\t$len2 = @matched; \n",
    "\t\t\tif($len2 == $len1){push(@TAXON, $levels[$p]);}\n",
    "\t\t\telse{last;}\n",
    "\t\t}\n",
    "\t\t$len3 = @TAXON; \n",
    "\t\tif($len3 > 1){$LCA = join(\";\", @TAXON);}\n",
    "\t\telsif($len3==1){$LCA = $TAXON[0];}\n",
    "\t\telse{$LCA = \"NCA\"; @TAXON = split(\";\", $LCA);}}\n",
    "\telse{$LCA = \"NCA\"; @TAXON = split(\";\", $LCA);}\n",
    "\n",
    "\t\t#check accuracy\n",
    "\t\t$hasGID = 0;\n",
    "\t\tif( grep{$RGID eq $_} @MNAMES){$hasGID = 1;}\n",
    "\n",
    "\t\t$hasLIN = 0;\n",
    "\t\tif( $RLIN =~ /$LCA/i ){ $hasLIN =1;}\n",
    "\t\t\n",
    "\t\tmy @GLCA;\n",
    "\t\t@RLEVS = split(\";\",$RLIN);\n",
    "\t\tfor my $q (0..6){\n",
    "\t\t\tif(!exists($TAXON[$q])){push(@GLCA,0);}\n",
    "\t\t\telsif($RLEVS[$q] eq $TAXON[$q]){push(@GLCA,1);}\n",
    "\t\t\telse{push(@GLCA,-1);}\n",
    "\t\t}\n",
    "\n",
    "\t\t$wasgoodlin = join(\"\\t\", @GLCA);\n",
    "\t\tprint OUTSTAT \"$read\\t$hasGID\\t$hasLIN\\t$TGC\\t$TGC\\t$RLIN\\t$LCA\\t$wasgoodlin\\n\";\n",
    "\t#}\n",
    "}\n",
    "\n"
   ]
  },
  {
   "cell_type": "markdown",
   "metadata": {},
   "source": [
    "### Collate Stats"
   ]
  },
  {
   "cell_type": "markdown",
   "metadata": {},
   "source": [
    "After Bowtie and Muscato are all aligned and have their stats files. Put all the .stats files into the same folder and compile the data using the outstats.pl script. Open outstats.txt in excel or R and graph as you like."
   ]
  },
  {
   "cell_type": "markdown",
   "metadata": {},
   "source": [
    "#### outstats.pl"
   ]
  },
  {
   "cell_type": "code",
   "execution_count": null,
   "metadata": {
    "collapsed": true
   },
   "outputs": [],
   "source": [
    "#use warnings;\n",
    "#process .o flux output files\n",
    "$dir = './';\n",
    "$output = './outstats.txt';\n",
    "\n",
    "opendir(DIR, $dir) || die \"Can't opendir $dir: $!\";\n",
    "foreach my $file (readdir DIR) { \n",
    "    \t$file = $dir.\"\\\\\".$file; \n",
    "    \tif(-f $file && $file =~ /\\.stats$/i){\n",
    "\t    \tprint \"doing $file\\n\";\n",
    "\t\t\tpush(@files, $file);\n",
    "\t\t\t$contGID = 0;\n",
    "\t\t\t$LCAmatch = 0;\n",
    "\t\t\t$TOTreads =0;\n",
    "\t\t\t$MINmism = 0;\n",
    "\t\t\t$TOTmatch = 0;\n",
    "\t\t\t$GOODmatch = 0;\n",
    "\t\t\t$goodKING = 0;\n",
    "\t\t\t$noKING = 0;\n",
    "\t\t\t$badKING = 0;\n",
    "\t\t\t$goodPHYL = 0;\n",
    "\t\t\t$noPHYL = 0;\n",
    "\t\t\t$badPHYL = 0;\n",
    "\t\t\t$goodCLAS = 0;\n",
    "\t\t\t$noCLAS = 0;\n",
    "\t\t\t$badCLAS = 0;\n",
    "\t\t\t$goodORDR = 0;\n",
    "\t\t\t$noORDR = 0;\n",
    "\t\t\t$badORDR = 0;\n",
    "\t\t\t$goodFAMY = 0;\n",
    "\t\t\t$noFAMY = 0;\n",
    "\t\t\t$badFAMY = 0;\n",
    "\t\t\t$goodGENU = 0;\n",
    "\t\t\t$noGENU = 0;\n",
    "\t\t\t$badGENU = 0;\n",
    "\t\t\t$goodSPEC = 0;\n",
    "\t\t\t$noSPEC = 0;\n",
    "\t\t\t$badSPEC = 0;\n",
    "\t\t\t\n",
    "\n",
    "\t\t\topen(INPUT, $file)||die \"unable to open $file: $!\\n\";\n",
    "\t\t\twhile(<INPUT>){\n",
    "\n",
    "\t\t\t\t#for bowtie output\n",
    "\t\t\t\tif($_ !~ /\\w/){next;}\n",
    "\t\t\t\tif($_ =~ /^Read/i){next;}\n",
    "\t\t\t\t$_ =~ s/[\\n\\r]+//;\n",
    "\t\t\t\t@stuff = split(\"\\t\", $_);\n",
    "\t\t\t\t\n",
    "\t\t\t\t#get mapping accuracy stats\n",
    "\t\t\t\t$TOTreads++;\n",
    "\t\t\t\t$contGID+=$stuff[1];\n",
    "\t\t\t\t$LCAmatch+=$stuff[2];\n",
    "\t\t\t\t$keptmatch+=$stuff[3];\n",
    "\t\t\t\t$totmatch+=$stuff[4];\n",
    "\n",
    "\t\t\t\t#GET LCA ACCURACY STATS\n",
    "\t\t\t\tif($stuff[7]==1){$goodKING++;}\n",
    "\t\t\t\tif($stuff[7]==0){$noKING++;}\n",
    "\t\t\t\tif($stuff[7]==-1){$badKING++;}\n",
    "\t\t\t\tif($stuff[8]==1){$goodPHYL++;}\n",
    "\t\t\t\tif($stuff[8]==0){$noPHYL++;}\n",
    "\t\t\t\tif($stuff[8]==-1){$badPHYL++;}\n",
    "\t\t\t\tif($stuff[9]==1){$goodCLAS++;}\n",
    "\t\t\t\tif($stuff[9]==0){$noCLAS++;}\n",
    "\t\t\t\tif($stuff[9]==-1){$badCLAS++;}\n",
    "\t\t\t\tif($stuff[10]==1){$goodORDR++;}\n",
    "\t\t\t\tif($stuff[10]==0){$noORDR++;}\n",
    "\t\t\t\tif($stuff[10]==-1){$badORDR++;}\n",
    "\t\t\t\tif($stuff[11]==1){$goodFAMY++;}\n",
    "\t\t\t\tif($stuff[11]==0){$noFAMY++;}\n",
    "\t\t\t\tif($stuff[11]==-1){$badFAMY++;}\n",
    "\t\t\t\tif($stuff[12]==1){$goodGENU++;}\n",
    "\t\t\t\tif($stuff[12]==0){$noGENU++;}\n",
    "\t\t\t\tif($stuff[12]==-1){$badGENU++;}\n",
    "\t\t\t\tif($stuff[13]==1){$goodSPEC++;}\n",
    "\t\t\t\tif($stuff[13]==0){$noSPEC++;}\n",
    "\t\t\t\tif($stuff[13]==-1){$badSPEC++;}\n",
    "\t\t\t}\n",
    "\t\t\t\n",
    "\t\t$pctctngid = $contGID/$TOTreads*100;\n",
    "\t\t$pctlcamat = $LCAmatch/$TOTreads*100;\n",
    "\t\t$avgkept = $keptmatch/$TOTreads;\n",
    "\t\t$avgmap = $totmatch/$TOTreads;\n",
    "\t\t\n",
    "\t\t$combo = \"$file\\t$TOTreads\\t$pctctngid\\t$pctlcamat\\t$avgmap\\t$avgkept\\t$badKING\\t$badPHYL\\t$badCLAS\\t$badORDR\\t$badFAMY\\t$badGENU\\t$badSPEC\\t$goodKING\\t$goodPHYL\\t$goodCLAS\\t$goodORDR\\t$goodFAMY\\t$goodGENU\\t$goodSPEC\\t$noKING\\t$noPHYL\\t$noCLAS\\t$noORDR\\t$noFAMY\\t$noGENU\\t$noSPEC\";\n",
    "\t\tprint \"$combo\\n\";\n",
    "\t\tpush(@RESULTS, $combo);\n",
    "\n",
    "\t}\n",
    "}\n",
    "\n",
    "open(OUTPUT, \">>\", $output)||die;\n",
    "foreach(@RESULTS){\n",
    "\tprint OUTPUT \"$_\\n\";\n",
    "}"
   ]
  }
 ],
 "metadata": {
  "kernelspec": {
   "display_name": "IPerl 0.009",
   "language": "perl",
   "name": "iperl"
  },
  "language_info": {
   "file_extension": ".pl",
   "mimetype": "text/x-perl",
   "name": "perl",
   "version": "5.26.1"
  }
 },
 "nbformat": 4,
 "nbformat_minor": 2
}
